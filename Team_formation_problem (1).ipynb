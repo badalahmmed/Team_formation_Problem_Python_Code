{
  "nbformat": 4,
  "nbformat_minor": 0,
  "metadata": {
    "colab": {
      "private_outputs": true,
      "provenance": [],
      "collapsed_sections": [
        "uTqoo6-gx6H7",
        "n2E003O30mLb",
        "_MjdHinqR8jr",
        "pf9RTWdql5GR"
      ],
      "toc_visible": true
    },
    "kernelspec": {
      "name": "python3",
      "display_name": "Python 3"
    },
    "language_info": {
      "name": "python"
    },
    "gpuClass": "standard"
  },
  "cells": [
    {
      "cell_type": "markdown",
      "source": [
        "#ALL Functions"
      ],
      "metadata": {
        "id": "r9zQooTBl-Zg"
      }
    },
    {
      "cell_type": "markdown",
      "source": [
        "##import library"
      ],
      "metadata": {
        "id": "6DsjU42XPF52"
      }
    },
    {
      "cell_type": "code",
      "execution_count": null,
      "metadata": {
        "id": "1udQbAU6a436"
      },
      "outputs": [],
      "source": [
        "from google.colab import drive\n",
        "drive.mount('/content/drive')\n"
      ]
    },
    {
      "cell_type": "code",
      "source": [
        "import sys\n",
        "sys.path.insert(0, '/content/drive/MyDrive/Team_Formation')"
      ],
      "metadata": {
        "id": "TZrKONtAu_Wu"
      },
      "execution_count": null,
      "outputs": []
    },
    {
      "cell_type": "code",
      "source": [
        "import random\n",
        "import numpy as np\n",
        "from numpy import *"
      ],
      "metadata": {
        "id": "kCUvfpHnzzGH"
      },
      "execution_count": null,
      "outputs": []
    },
    {
      "cell_type": "markdown",
      "source": [
        "##Data Loading Function"
      ],
      "metadata": {
        "id": "ZoVCiavNOohG"
      }
    },
    {
      "cell_type": "markdown",
      "source": [
        "##load skills connection"
      ],
      "metadata": {
        "id": "ahP7wU320cDM"
      }
    },
    {
      "cell_type": "code",
      "source": [
        "#Function for Load Skills text file into system memory\n",
        "def load_skills_in_memory( skills_file) :\n",
        "  with open (skills_file, \"r\") as myfile:\n",
        "    data = myfile.read().splitlines()\n",
        "  return data\n"
      ],
      "metadata": {
        "id": "Wp9f-fxcbNXg"
      },
      "execution_count": null,
      "outputs": []
    },
    {
      "cell_type": "code",
      "source": [
        "#Process Skills Data and create skills matrix (verifier)\n",
        "def process_skills_connection(skills_Data):\n",
        "  persons_list=[];\n",
        "  skills_list=[]\n",
        "  unprocess_skills_connections=[];\n",
        "  for idx in skills_Data:\n",
        "    content = idx;\n",
        "    process_already=False;\n",
        "    results= content.split(\"=\");\n",
        "    for result in results:\n",
        "      if result.strip() == \"Total Persons\".strip():\n",
        "        total_person = int(results[1]);\n",
        "        process_already=True;\n",
        "      elif result.strip() == \"Total Skills\".strip():\n",
        "        total_skills =int (results[1]);\n",
        "        process_already=True;\n",
        "      elif result.strip() == \"Persons Mapping\".strip():\n",
        "        persons= results[1].split(\",\");\n",
        "        for person in persons:\n",
        "          ## need to create a string array\n",
        "          persons_list.append(person);\n",
        "        process_already=True;\n",
        "      elif result.strip() == \"Skills Mapping\".strip() :\n",
        "        skills= results[1].split(\",\");\n",
        "        for skill in skills:\n",
        "          ## need to create a string array\n",
        "          skills_list.append(skill);\n",
        "        process_already=True;\n",
        "      else:\n",
        "        if  content not in unprocess_skills_connections and process_already == False :\n",
        "          unprocess_skills_connections.append(content);\n",
        "  #Process the skills connection\n",
        "  skills_connections = [[0] * (total_skills) for _ in range(total_person)]\n",
        "  # initialize initial connections\n",
        "  i = 0\n",
        "  while (i < len(unprocess_skills_connections)) :\n",
        "    s = unprocess_skills_connections[i].strip()\n",
        "    result = s.split(\"=\")\n",
        "    val = result[1].split(\":\")\n",
        "    j = 0\n",
        "    while (j < len(val)) :\n",
        "      skills_connections[i][j] = int(int(val[j]))\n",
        "      j += 1\n",
        "    i += 1\n",
        "  return [total_person, total_skills, persons_list,skills_list, skills_connections];\n",
        ""
      ],
      "metadata": {
        "id": "5WjtxJhjXqvA"
      },
      "execution_count": null,
      "outputs": []
    },
    {
      "cell_type": "markdown",
      "source": [
        "##process cost connection"
      ],
      "metadata": {
        "id": "uTqoo6-gx6H7"
      }
    },
    {
      "cell_type": "code",
      "source": [
        "#Function for Load cost text file into system memory\n",
        "def load_cost_in_memory( cost_file) :\n",
        "  with open (cost_file, \"r\") as myfile:\n",
        "    data = myfile.read().splitlines()\n",
        "  return data"
      ],
      "metadata": {
        "id": "cs-Q24IRcm8p"
      },
      "execution_count": null,
      "outputs": []
    },
    {
      "cell_type": "code",
      "source": [
        "#Process Connection cost Data and create connection cost matrix(verifier)\n",
        "def process_Connection_cost(cost_data,total_persons):\n",
        "  unprocess_costs_connections=[];\n",
        "  for data in cost_data:\n",
        "    process_already= False;\n",
        "    results= data.split('=');\n",
        "    for result in results:\n",
        "      str_value= result;\n",
        "      if str_value.strip() == \"Persons Mapping\".strip():\n",
        "        process_already = True;\n",
        "        continue;\n",
        "      else:\n",
        "        if  data not in unprocess_costs_connections and process_already == False :\n",
        "          unprocess_costs_connections.append(data);\n",
        "  #process the connection cost\n",
        "  connections_cost = [[0.0] * (total_persons) for _ in range(total_persons)]\n",
        "  i = 0\n",
        "  while (i < len(unprocess_costs_connections)) :\n",
        "    s = unprocess_costs_connections[i].strip()\n",
        "    result = s.split(\"=\")\n",
        "    val = result[1].split(\":\")\n",
        "    j = 0\n",
        "    while (j < len(val)) :\n",
        "      connections_cost[i][j] = float(val[j]);\n",
        "      j += 1\n",
        "    i += 1\n",
        "  return connections_cost;"
      ],
      "metadata": {
        "id": "oW6zLS8GnAGs"
      },
      "execution_count": null,
      "outputs": []
    },
    {
      "cell_type": "markdown",
      "source": [
        "##load skills to find"
      ],
      "metadata": {
        "id": "n2E003O30mLb"
      }
    },
    {
      "cell_type": "code",
      "source": [
        "#Function for Load required skills text file into system memory\n",
        "def load_skills_to_find( req_file, skills_list) :\n",
        "  match_index=[];\n",
        "  with open (req_file, \"r\") as myfile:\n",
        "    data = myfile.read().splitlines()\n",
        "  text=data[0].split(\"=\");\n",
        "  skills= text[1].split(\",\")\n",
        "  for skill in skills:\n",
        "    if skill.strip() in skills_list: #if skills are in skills list\n",
        "      index=skills_list.index(skill.strip());\n",
        "      match_index.append(index);\n",
        "    else: #if skill are not found\n",
        "      print('Skills not found. Please check your Requiremnt text files');\n",
        "      print(\"Skills not found =\" , skill)\n",
        "      sys.exit();\n",
        "  match_index.sort();\n",
        "  total_skills= len(skills_list);\n",
        "  skills_to_find = [0] * (total_skills);\n",
        "  i = 0\n",
        "  while (i < total_skills) :\n",
        "    if (i  in match_index) :\n",
        "      # if match put 1 into that space\n",
        "      skills_to_find[i] = 1\n",
        "    i += 1\n",
        "\n",
        "  return skills_to_find"
      ],
      "metadata": {
        "id": "MRlRXnkhtjpV"
      },
      "execution_count": null,
      "outputs": []
    },
    {
      "cell_type": "markdown",
      "source": [
        "##Objective Function"
      ],
      "metadata": {
        "id": "tMg1d76XOe5I"
      }
    },
    {
      "cell_type": "code",
      "source": [
        "#convert array sequence into a string\n",
        "def array_sequence_to_string(array):\n",
        "  sequence = \"\"\n",
        "  i = 0\n",
        "  while (i < len(array)) :\n",
        "    if (i < len(array) - 1) :\n",
        "      # for last item\n",
        "      sequence = sequence + str(array[i]) + \"-\"\n",
        "    else :\n",
        "      # for all item\n",
        "      sequence = sequence + str(array[i])\n",
        "    i += 1\n",
        "  return sequence;"
      ],
      "metadata": {
        "id": "CiUKWYNq74Ux"
      },
      "execution_count": null,
      "outputs": []
    },
    {
      "cell_type": "code",
      "source": [
        "def  contain_skills_to_find( arr,  clone_skills_to_find) :\n",
        "  outcome = False\n",
        "  #print(arr)\n",
        "  #print(clone_skills_to_find)\n",
        "  x = 0\n",
        "  while (x < len(clone_skills_to_find)) :\n",
        "    if (clone_skills_to_find[x] == 1 and arr[x] == 1) :\n",
        "      outcome = True\n",
        "      #print('find some skill')\n",
        "      clone_skills_to_find[x] = 0\n",
        "    x += 1\n",
        "  #print(\"outcome\")\n",
        "  #print(outcome)\n",
        "  return outcome"
      ],
      "metadata": {
        "id": "_r8Eo4op_NID"
      },
      "execution_count": null,
      "outputs": []
    },
    {
      "cell_type": "code",
      "source": [
        "def  merge_elements_( arr1,  arr2) :\n",
        "  merge_array = [0] * (total_skills)\n",
        "  x = 0\n",
        "  while (x < len(arr1)) :\n",
        "    if (arr1[x] == arr2[x]) :\n",
        "        merge_array[x] = arr1[x]\n",
        "    elif(arr1[x] == 0 and arr2[x] == 1) :\n",
        "        merge_array[x] = 1\n",
        "    elif(arr1[x] == 1 and arr2[x] == 0) :\n",
        "        merge_array[x] = 1\n",
        "    x += 1\n",
        "  return merge_array"
      ],
      "metadata": {
        "id": "5dV-_PTM_zDi"
      },
      "execution_count": null,
      "outputs": []
    },
    {
      "cell_type": "code",
      "source": [
        "def  complete_merge_sequence_( arr,  skills_to_find) :\n",
        "  outcome = True\n",
        "  x = 0\n",
        "  while (x < len(skills_to_find)) :\n",
        "    if (skills_to_find[x] == 1 and arr[x] == 0) :\n",
        "      outcome = False\n",
        "      # if there are some/one skill needed\n",
        "      break\n",
        "    x += 1\n",
        "  return outcome"
      ],
      "metadata": {
        "id": "Wp2Z_UGNAGom"
      },
      "execution_count": null,
      "outputs": []
    },
    {
      "cell_type": "code",
      "source": [
        "def objective_function(arr ,skills_to_find ):\n",
        "  total_skills=len(skills_to_find);\n",
        "  consist_skills_value = False\n",
        "  # fill the int array by zero.\n",
        "  trim_seq =  []\n",
        "  clone_skills_to_find = skills_to_find ;\n",
        "  for i in range(len(arr)):\n",
        "    #print(i)\n",
        "    consist_skills_value = False\n",
        "    if (i == 0) :\n",
        "      # for first iteration\n",
        "      #print('i==0')\n",
        "      person= arr[i];\n",
        "      #print(person)\n",
        "      update_answer = skills_connections[person]\n",
        "      #print(\"persons skills\")\n",
        "      #print(update_answer)\n",
        "      consist_skills_value = contain_skills_to_find(update_answer,clone_skills_to_find);\n",
        "      #print(\"consist value\" )\n",
        "      #print( consist_skills_value )\n",
        "      # check the person has that specific skills set\n",
        "      if (consist_skills_value== True) :\n",
        "        trim_seq.append(arr[i])\n",
        "    else :\n",
        "      #print('i>0')\n",
        "      #print(\"person\")\n",
        "      person= arr[i];\n",
        "      #print(person)\n",
        "      # for all iteration\n",
        "      tmp_answer=skills_connections[arr[i]]\n",
        "      consist_skills_value = contain_skills_to_find(tmp_answer, clone_skills_to_find)\n",
        "      if (consist_skills_value==True) :\n",
        "        trim_seq.append(arr[i])\n",
        "        update_answer = merge_elements_(update_answer, tmp_answer)\n",
        "        if (complete_merge_sequence_(update_answer, skills_to_find)) :\n",
        "          break;\n",
        "    trim_result = trim_seq\n",
        "  return trim_result;"
      ],
      "metadata": {
        "id": "gs05uxUG6KDc"
      },
      "execution_count": null,
      "outputs": []
    },
    {
      "cell_type": "code",
      "source": [
        "def objective_value1_( seq) :\n",
        "  return (len(seq))"
      ],
      "metadata": {
        "id": "oIOHwH_7QSMf"
      },
      "execution_count": null,
      "outputs": []
    },
    {
      "cell_type": "code",
      "source": [
        "def objective_value2_(seq,connections_cost) :\n",
        "  cost = 0.0\n",
        "  i = 0\n",
        "  while (i < len(seq)) :\n",
        "    row = seq[i]\n",
        "    j = i + 1\n",
        "    while (j < len(seq)) :\n",
        "      col = seq[j]\n",
        "      cost = (double)(cost + connections_cost[row][col]);\n",
        "      j += 1\n",
        "    i += 1\n",
        "  #print(\"%.2d\", cost)\n",
        "  return (cost)"
      ],
      "metadata": {
        "id": "scmxPH-tRXJs"
      },
      "execution_count": null,
      "outputs": []
    },
    {
      "cell_type": "markdown",
      "source": [
        "Testing objective function"
      ],
      "metadata": {
        "id": "WYK0S1CtOwrj"
      }
    },
    {
      "cell_type": "markdown",
      "source": [
        "##Transfer learning Functions"
      ],
      "metadata": {
        "id": "_MjdHinqR8jr"
      }
    },
    {
      "cell_type": "code",
      "source": [
        "def create_rank_fitness( fitness) :\n",
        "  population_size= len(fitness);\n",
        "  delta = 1.0E-4\n",
        "  clone_fitness = fitness\n",
        "  rank = [0] * (population_size)\n",
        "  clone_fitness.sort()\n",
        "  idx = 0\n",
        "  i = 0\n",
        "  while (i < len(fitness)) :\n",
        "    j = 0\n",
        "    while (j < len(fitness)) :\n",
        "      if (abs(fitness[i] - clone_fitness[j]) < delta) :\n",
        "        rank[idx] = j + 1\n",
        "        clone_fitness[j] = sys.maxsize\n",
        "        idx += 1\n",
        "        break\n",
        "      j += 1\n",
        "    i += 1\n",
        "\n",
        "  return rank"
      ],
      "metadata": {
        "id": "oeugI9RCSfmw"
      },
      "execution_count": null,
      "outputs": []
    },
    {
      "cell_type": "code",
      "source": [
        "def  Single_Scala_fitness( rank1,  rank2,  rank3,  rank4,  index) :\n",
        "  # checked all ok no problem\n",
        "  # compute new scalar fitness\n",
        "  SF = 0\n",
        "  # creating list.\n",
        "  rankValue =  []\n",
        "  rankValue.append(rank1[index])\n",
        "  rankValue.append(rank2[index])\n",
        "  rankValue.append(rank3[index])\n",
        "  rankValue.append(rank4[index])\n",
        "  minv = min(rankValue)\n",
        "  SF = float(1.0) / minv\n",
        "  rankValue.clear()\n",
        "  return SF"
      ],
      "metadata": {
        "id": "bLzkd71xSUsm"
      },
      "execution_count": null,
      "outputs": []
    },
    {
      "cell_type": "code",
      "source": [
        "def  create_scala_fitness_matrix( rank1,  rank2,  rank3,  rank4) :\n",
        "  # checked all ok no problem\n",
        "  population_size = len(rank1);\n",
        "  SF = [0.0] * population_size\n",
        "  # creating list.\n",
        "  rankValue =  []\n",
        "  i = 0\n",
        "  while (i < population_size) :\n",
        "    rankValue.append(rank1[i])\n",
        "    rankValue.append(rank2[i])\n",
        "    rankValue.append(rank3[i])\n",
        "    rankValue.append(rank4[i])\n",
        "    minv = min(rankValue)\n",
        "    SF[i] = float(1.0) / (minv)\n",
        "    rankValue.clear()\n",
        "    i += 1\n",
        "  return SF"
      ],
      "metadata": {
        "id": "DwNwnlPWR7sV"
      },
      "execution_count": null,
      "outputs": []
    },
    {
      "cell_type": "markdown",
      "source": [
        "##Population initialization"
      ],
      "metadata": {
        "id": "h5bCPPQ_TNjH"
      }
    },
    {
      "cell_type": "code",
      "source": [
        "#genearate Random sequence\n",
        "def generate_random_sequence(dimention):\n",
        "  ar = [0] * (dimention)\n",
        "  d = 0\n",
        "  tmp = 0\n",
        "  generator =  random;\n",
        "  dummy_solution_array = [0] * (dimention)\n",
        "  counter = 0\n",
        "  while (counter < dimention) :\n",
        "      dummy_solution_array[counter] = counter\n",
        "      counter += 1\n",
        "  # copy array from seq_arr\n",
        "  ar = dummy_solution_array;\n",
        "  # swap with new ar with random index\n",
        "  # the first index and last index must not change\n",
        "  i = 0\n",
        "  while (i < dimention - 1) :\n",
        "    d = i + (generator.randint(0, (dimention - 1 - i)));\n",
        "    # generate random number between i and (dim-1-i)\n",
        "    # System.out.print(\"generator \"+ d);\n",
        "    tmp = ar[i]\n",
        "    ar[i] = ar[d]\n",
        "    ar[d] = tmp\n",
        "    i += 1\n",
        "  return ar"
      ],
      "metadata": {
        "id": "svWKm9QcO9TZ"
      },
      "execution_count": null,
      "outputs": []
    },
    {
      "cell_type": "code",
      "source": [
        "def initialize_population(task) :\n",
        "  population = [[0] * (total_person) for _ in range(population_size)]\n",
        "  # Task-1\n",
        "  obj_value1_array = [0] * (population_size)\n",
        "  obj_value2_array = [0.00] * (population_size)\n",
        "  population_short_seq_list = [None] * (population_size)\n",
        "\n",
        "  # Generate Random Population and copy it intp population variable\n",
        "  arr = None\n",
        "  row = 0\n",
        "  while (row < population_size) :\n",
        "    # generate long sequence\n",
        "    arr = generate_random_sequence(total_person)\n",
        "    # generate random sequence with random numbers between 1 to total no of person\n",
        "    population[row] = arr\n",
        "    # evaluate the population by calculating fitness\n",
        "    task_1_fitness = objective_function(arr, task.copy())\n",
        "    population_short_seq_list[row] = array_sequence_to_string(task_1_fitness)\n",
        "    task1_obj_person = objective_value1_(task_1_fitness)\n",
        "    obj_value1_array[row] = task1_obj_person\n",
        "    task1_obj_costs = objective_value2_(task_1_fitness,connections_cost)\n",
        "    obj_value2_array[row] = (double)(task1_obj_costs)\n",
        "    print('population ', row)\n",
        "    print('population ', population[row])\n",
        "    print(\"team sequence \", population_short_seq_list[row])\n",
        "    print(\"team size \", task1_obj_person)\n",
        "    print(\"cost\" , task1_obj_costs)\n",
        "    row+=1\n"
      ],
      "metadata": {
        "id": "ChqqVeJePahH"
      },
      "execution_count": null,
      "outputs": []
    },
    {
      "cell_type": "markdown",
      "source": [
        "#Main function"
      ],
      "metadata": {
        "id": "pf9RTWdql5GR"
      }
    },
    {
      "cell_type": "code",
      "source": [
        "#Main program controller\n",
        "##Load Skills memeory into system\n",
        "skills_file= \"/content/drive/MyDrive/Team Formation/ExtractedSkill_Staff_Expertise_Data.txt\";\n",
        "skills_data=load_skills_in_memory(skills_file);\n",
        "##process the skills memory and create skills matrix\n",
        "total_person, total_skills, persons_list,skills_list,skills_connections=process_skills_connection(skills_data);\n",
        "'''\n",
        "print('Total Person = ', total_person)\n",
        "print('Total Skills = ', total_skills)\n",
        "print('Person list ' , persons_list)\n",
        "print('Skills list ', skills_list)\n",
        "print('Skills Connection ' , skills_connections)\n",
        "'''\n",
        "#initialize skills collection and load into system\n",
        "cost_file =  '/content/drive/MyDrive/Team Formation/ConnectionCost_Staff_Expertise_Data.txt';\n",
        "cost_data = load_cost_in_memory(cost_file);\n",
        "#process the cost data and create cost matrix\n",
        "connections_cost = process_Connection_cost(cost_data, total_person);\n",
        "#print('connection cost matrix', connections_cost)\n",
        "\n",
        "#load req skills\n",
        "skills1=load_skills_to_find(\"/content/drive/MyDrive/Team Formation/Required skills 20_1.txt\", skills_list);\n",
        "#skills2=load_skills_to_find(\"/content/drive/MyDrive/Team_Formation/Required skills 20_2.txt\", skills_list);\n",
        "#skills3=load_skills_to_find(\"/content/drive/MyDrive/Team_Formation/Required skills 10_3.txt\", skills_list);\n",
        "#skills4=load_skills_to_find(\"/content/drive/MyDrive/Team_Formation/Required skills 20_4.txt\", skills_list);\n",
        "\n",
        "####initialize population\n",
        "population_size=100;\n",
        "initialize_population(skills1.copy())"
      ],
      "metadata": {
        "id": "4HEP3NmdeeKM"
      },
      "execution_count": null,
      "outputs": []
    },
    {
      "cell_type": "markdown",
      "source": [
        "#jaya Algorithm"
      ],
      "metadata": {
        "id": "70dofpGp1VzE"
      }
    },
    {
      "cell_type": "code",
      "source": [],
      "metadata": {
        "id": "5hyoRN_G1Vfr"
      },
      "execution_count": null,
      "outputs": []
    }
  ]
}